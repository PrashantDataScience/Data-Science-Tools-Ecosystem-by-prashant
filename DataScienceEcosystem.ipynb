{
 "cells": [
  {
   "cell_type": "markdown",
   "id": "47fdf525-6f41-486e-982f-8acf3840e6f0",
   "metadata": {},
   "source": [
    "# **Data Science Tools & Ecosystem**"
   ]
  },
  {
   "cell_type": "markdown",
   "id": "a40c7f64-7894-4e95-95c9-ede148a458cf",
   "metadata": {},
   "source": [
    "## **Intoduction**"
   ]
  },
  {
   "cell_type": "markdown",
   "id": "c5a8e61b-484e-4686-99d6-fb005cf0bb32",
   "metadata": {},
   "source": [
    "### In this notebook, Data Science Tools and Ecosystem are summarized.\n"
   ]
  },
  {
   "cell_type": "markdown",
   "id": "f9e59b6d-1611-473a-a174-c8caf4cabe55",
   "metadata": {},
   "source": [
    "## **Objective of this excericise** \n"
   ]
  },
  {
   "cell_type": "markdown",
   "id": "2a2daf16-3b2b-406a-a8f8-a5de91ccfb8a",
   "metadata": {},
   "source": [
    "### List popular languages for Data Science"
   ]
  },
  {
   "cell_type": "markdown",
   "id": "89cd6fd6-d9f0-4204-b5d0-93486a2844d0",
   "metadata": {},
   "source": [
    "## Data Science Languages"
   ]
  },
  {
   "cell_type": "markdown",
   "id": "8ca45c55-7394-49b0-84a5-2a08b197412c",
   "metadata": {},
   "source": [
    "### Some of the popular languages that Data Scientists use are:\n"
   ]
  },
  {
   "cell_type": "markdown",
   "id": "e19a9aac-539c-447a-8eea-aec5b79fb926",
   "metadata": {},
   "source": [
    "|Rank|Language|\n",
    "-----|--------|\n",
    "1|Python|\n",
    "2|R|\n",
    "3|SQL|\n",
    "4|Java|"
   ]
  },
  {
   "cell_type": "markdown",
   "id": "6fd6f442-4228-4f14-8ea1-ac14f92dc02d",
   "metadata": {},
   "source": [
    "## Data Science Libraries"
   ]
  },
  {
   "cell_type": "markdown",
   "id": "1f4e335b-38e5-4b8f-87af-89a94af3ea8b",
   "metadata": {},
   "source": [
    "### Overview :- Some of the commonly used libraries used by Data Scientists include:"
   ]
  },
  {
   "cell_type": "markdown",
   "id": "5cfcb31c-9e5c-406f-a79c-0a876d640cb8",
   "metadata": {},
   "source": [
    "\n",
    "|Rank|Libraries|\n",
    "-----|--------|\n",
    "1|NumPy|\n",
    "2|Pandas|\n",
    "3|Matplotlib|\n",
    "4|Scikit-learn|"
   ]
  },
  {
   "cell_type": "markdown",
   "id": "3081edf1-8d49-4c36-9d0a-da13b3793588",
   "metadata": {},
   "source": [
    "# Data Science tools & Open Source Environments "
   ]
  },
  {
   "cell_type": "markdown",
   "id": "b12ee1bd-8c15-4d36-839b-4d41c6b6c896",
   "metadata": {},
   "source": [
    "|Data Science Tools|\n",
    "-------------------\n",
    "|Jupyter Notebook|\n",
    "|RStudio|\n",
    "|VS Code with Python extensions|\n",
    "|PyCharm|"
   ]
  },
  {
   "cell_type": "markdown",
   "id": "ffe09190-c3c6-4445-9839-13f2c0cf41f3",
   "metadata": {},
   "source": [
    "## Arithmetic Expression Examples"
   ]
  },
  {
   "cell_type": "markdown",
   "id": "3c8d20e5-d6ec-409f-bf68-966419a4b008",
   "metadata": {},
   "source": [
    "### Below is an example of evaluating arithmetic expressions in Python."
   ]
  },
  {
   "cell_type": "code",
   "execution_count": 22,
   "id": "e2b1c91f-f1f9-4673-be59-0120abb75272",
   "metadata": {},
   "outputs": [
    {
     "data": {
      "text/plain": [
       "17"
      ]
     },
     "execution_count": 22,
     "metadata": {},
     "output_type": "execute_result"
    }
   ],
   "source": [
    "(3*4)+5"
   ]
  },
  {
   "cell_type": "markdown",
   "id": "8be2dde0-5257-498d-a48a-1054c0482db9",
   "metadata": {},
   "source": [
    "### Convert 200 Minutes to Hours"
   ]
  },
  {
   "cell_type": "code",
   "execution_count": 30,
   "id": "47f38d9d-3b4d-4ad5-8305-822ed8f835ea",
   "metadata": {},
   "outputs": [
    {
     "data": {
      "text/plain": [
       "3.3333333333333335"
      ]
     },
     "execution_count": 30,
     "metadata": {},
     "output_type": "execute_result"
    }
   ],
   "source": [
    "200/60"
   ]
  },
  {
   "cell_type": "markdown",
   "id": "116e772a-3552-4834-ad40-96926610acc0",
   "metadata": {},
   "source": [
    "## *Author : Prashant Pandey*"
   ]
  }
 ],
 "metadata": {
  "kernelspec": {
   "display_name": "Python 3 (ipykernel)",
   "language": "python",
   "name": "python3"
  },
  "language_info": {
   "codemirror_mode": {
    "name": "ipython",
    "version": 3
   },
   "file_extension": ".py",
   "mimetype": "text/x-python",
   "name": "python",
   "nbconvert_exporter": "python",
   "pygments_lexer": "ipython3",
   "version": "3.12.4"
  }
 },
 "nbformat": 4,
 "nbformat_minor": 5
}
